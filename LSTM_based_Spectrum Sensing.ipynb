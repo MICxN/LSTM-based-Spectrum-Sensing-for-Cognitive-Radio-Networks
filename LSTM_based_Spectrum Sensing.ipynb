{
  "nbformat": 4,
  "nbformat_minor": 0,
  "metadata": {
    "accelerator": "GPU",
    "colab": {
      "name": "LSTM_based_Spectrum Sensing_FM.ipynb",
      "provenance": [],
      "collapsed_sections": []
    },
    "kernelspec": {
      "display_name": "Python 3",
      "language": "python",
      "name": "python3"
    },
    "language_info": {
      "codemirror_mode": {
        "name": "ipython",
        "version": 3
      },
      "file_extension": ".py",
      "mimetype": "text/x-python",
      "name": "python",
      "nbconvert_exporter": "python",
      "pygments_lexer": "ipython3",
      "version": "3.6.6"
    }
  },
  "cells": [
    {
      "cell_type": "markdown",
      "metadata": {
        "id": "-SCM5tjfD07X"
      },
      "source": [
        "# Long Short Term Memory Based Spectrum Sensing in Cognitive Radio Networks\n",
        "[Published in IEEE Access-2020 and PIMRC-2019].\n",
        "\n",
        "\n"
      ]
    },
    {
      "cell_type": "markdown",
      "metadata": {
        "id": "tOT2hOA4r9OZ"
      },
      "source": [
        "\n",
        "\n",
        "---\n",
        "\n",
        "Copyright reserved by: Nikhil Balwani, Dhaval K. Patel, Brijesh Soni and Miguel Lopez-Benitez\n",
        "\n",
        "---\n",
        "\n",
        "\n",
        "\n",
        "\n",
        "\n"
      ]
    },
    {
      "cell_type": "markdown",
      "metadata": {
        "id": "O04BcHbRDNpS"
      },
      "source": [
        "# 1. Importing and Initializing data"
      ]
    },
    {
      "cell_type": "markdown",
      "metadata": {
        "id": "h1auQ1KzMRY-"
      },
      "source": [
        "The list of packages that will be used in the study: -\n",
        "\n",
        "1. numpy - For vectorized implementation\n",
        "2. math - Inbuilt support for mathematical operations\n",
        "3. time - measuring runtime\n",
        "4. keras - for LSTM model, training and testing"
      ]
    },
    {
      "cell_type": "code",
      "metadata": {
        "id": "8TQRcue3CbCI",
        "colab": {
          "base_uri": "https://localhost:8080/"
        },
        "outputId": "db1a523a-7e01-4aa0-b687-196b90478fc7"
      },
      "source": [
        "import numpy as np\n",
        "import math\n",
        "from scipy.stats import norm\n",
        "import time\n",
        "import pandas as pd\n",
        "import statsmodels.api as sm\n",
        "from keras.layers import Dense, Dropout, LSTM, TimeDistributed, Flatten, Bidirectional\n",
        "from keras.models import Sequential\n",
        "from matplotlib import pyplot as plt\n",
        "from keras import layers, models\n",
        "#import plotly.offline as py\n",
        "#import plotly.graph_objs as go\n",
        "#import dill\n",
        "#py.init_notebook_mode(connected=True)\n",
        "%matplotlib inline"
      ],
      "execution_count": 1,
      "outputs": [
        {
          "output_type": "stream",
          "text": [
            "/usr/local/lib/python3.6/dist-packages/statsmodels/tools/_testing.py:19: FutureWarning: pandas.util.testing is deprecated. Use the functions in the public API at pandas.testing instead.\n",
            "  import pandas.util.testing as tm\n"
          ],
          "name": "stderr"
        }
      ]
    },
    {
      "cell_type": "markdown",
      "metadata": {
        "id": "WFkwhVvQNphx"
      },
      "source": [
        "Data for all he four technologies are loaded into their respective vector names. They are all reshaped to convert them from Rank 1 arrays to proper Numpy vectors."
      ]
    },
    {
      "cell_type": "markdown",
      "metadata": {
        "id": "j5l00dPsiCGM"
      },
      "source": [
        "# 2.Retreiving data"
      ]
    },
    {
      "cell_type": "markdown",
      "metadata": {
        "id": "e21wXUnxiIwn"
      },
      "source": [
        "Retreiving data from the files for all the four wireless technologies."
      ]
    },
    {
      "cell_type": "code",
      "metadata": {
        "colab": {
          "base_uri": "https://localhost:8080/"
        },
        "id": "68mM0GDTWBcb",
        "outputId": "5ab05f9a-f54b-4476-ddf1-2b19d9d0f326"
      },
      "source": [
        "# Importing data from file (1840 MHz)\n",
        "FM = np.fromfile('96_7_20db', dtype=np.float32)\n",
        "\n",
        "# Reshaping to convert to a proper NUMPY vector\n",
        "FM = np.reshape(FM, (FM.shape[0], 1))\n",
        "\n",
        "# Shape of FM signal vector\n",
        "print(\"Size of FM: \" + str(FM.shape))"
      ],
      "execution_count": 2,
      "outputs": [
        {
          "output_type": "stream",
          "text": [
            "Size of FM: (2971649, 1)\n"
          ],
          "name": "stdout"
        }
      ]
    },
    {
      "cell_type": "markdown",
      "metadata": {
        "id": "ssWTcXDnptCo"
      },
      "source": [
        "# 3. Creating NUMPY equivalent for bandpower function"
      ]
    },
    {
      "cell_type": "markdown",
      "metadata": {
        "id": "psMi-MZGOSgU"
      },
      "source": [
        "A MATLAB equivalent for bandpower function is created."
      ]
    },
    {
      "cell_type": "code",
      "metadata": {
        "id": "vUm25JALpO2h"
      },
      "source": [
        "def bandpower(signal):\n",
        "  return np.mean(signal ** 2)"
      ],
      "execution_count": 3,
      "outputs": []
    },
    {
      "cell_type": "code",
      "metadata": {
        "colab": {
          "base_uri": "https://localhost:8080/"
        },
        "id": "TPhaejxqrtTa",
        "outputId": "367671f3-67ed-4cc8-9c5c-e4e10aee1400"
      },
      "source": [
        "bandpower(FM)"
      ],
      "execution_count": 4,
      "outputs": [
        {
          "output_type": "execute_result",
          "data": {
            "text/plain": [
              "0.08850595"
            ]
          },
          "metadata": {
            "tags": []
          },
          "execution_count": 4
        }
      ]
    },
    {
      "cell_type": "markdown",
      "metadata": {
        "id": "yy1GypyCpqtT"
      },
      "source": [
        "# 4. Creating NUMPY equivalent for AWGN (Additive White Gaussian Noise) function"
      ]
    },
    {
      "cell_type": "markdown",
      "metadata": {
        "id": "BG8yHBNTxPnm"
      },
      "source": [
        "First of all, the SNR (Signal-to-noise ratio) is converted from decibel scale to linear scale using the given formula:\n",
        "\n",
        "$$\\text{SNR}_{\\text{linear}} = 10 ^ {\\frac{\\text{SNR}_{\\text{dB}}}{10} }$$\n",
        "\n",
        "\n",
        "The variance of standard the signal is adjusted using the formula given below:\n",
        "\n",
        "$$\\text{SNR}_{\\text{linear}} = \\frac{Power(signal)}{Var(noise)}\\\\\n",
        "\\implies \\boxed{Power(signal) = Var(noise) \\times \\text{SNR}_{\\text{linear}}}$$"
      ]
    },
    {
      "cell_type": "code",
      "metadata": {
        "id": "UiQO0BKGKlHK"
      },
      "source": [
        "def awgn(signal, desired_snr):\n",
        "  \n",
        "  # Converting the SNR from dB scale to linear scale\n",
        "  snr_linear = math.pow(10, desired_snr / 10)\n",
        "  \n",
        "  # Standard normally distributed noise\n",
        "  noise = np.random.randn(signal.shape[0], 1)\n",
        "  \n",
        "  # Using the boxed formula\n",
        "  var_signal = bandpower(noise) * snr_linear\n",
        "  \n",
        "  # Normalizing the signal to have the given variance\n",
        "  normalized_signal = math.sqrt(var_signal) * (signal / math.sqrt(bandpower(signal)))\n",
        "  \n",
        "  print(\"SNR = \" + str(10 * math.log10(bandpower(normalized_signal) / bandpower(noise))))\n",
        "  \n",
        "  return normalized_signal + noise"
      ],
      "execution_count": 5,
      "outputs": []
    },
    {
      "cell_type": "markdown",
      "metadata": {
        "id": "At7izpjzNjPq"
      },
      "source": [
        "# 5. Filtering the data"
      ]
    },
    {
      "cell_type": "markdown",
      "metadata": {
        "id": "hVvL7sX0_lMw"
      },
      "source": [
        "The datasets are filtered to remove any transient peaks. Values between $10^{-7}$ and $1$ are retained, others are discarded."
      ]
    },
    {
      "cell_type": "code",
      "metadata": {
        "colab": {
          "base_uri": "https://localhost:8080/"
        },
        "id": "BQdZ2vI69uvT",
        "outputId": "94cf5b6b-3456-45b2-d4d4-98d5e57a77cc"
      },
      "source": [
        "\n",
        "\n",
        "FM = FM[np.logical_and(FM > math.pow(10, -7), FM < 1)]\n",
        "FM = FM.reshape(FM.shape[0], 1)\n",
        "\n",
        "\n",
        " # Shape of FM signal vector\n",
        "print(\"Size of FM: \" + str(FM.shape))\n",
        "\n",
        "print(awgn(FM[0:100000], 4).shape)"
      ],
      "execution_count": 6,
      "outputs": [
        {
          "output_type": "stream",
          "text": [
            "Size of FM: (2971649, 1)\n",
            "SNR = 3.999999353326178\n",
            "(100000, 1)\n"
          ],
          "name": "stdout"
        }
      ]
    },
    {
      "cell_type": "markdown",
      "metadata": {
        "id": "1gBeiPhiBl3W"
      },
      "source": [
        "# 6. Making the dataset ready"
      ]
    },
    {
      "cell_type": "markdown",
      "metadata": {
        "id": "GIoGruYgCG58"
      },
      "source": [
        "The following dataset will create a dataset for the signal with a given SNR, number of samples and size of the samples in the sensing event. Dataset is constructed based on two features: - The test statistic (Zhang Statistic) and Energy of the sensing event.They are defined as below: -\n",
        "\n",
        "Energy of the sensing event $E$ is given by,\n",
        "\n",
        "$$E = \\sum_{i = 1} ^{N} \\big|y[n]\\big|^{2} $$\n",
        "\n",
        "Test statistic $Z_{c}$ is given by, \n",
        "\n",
        "$$Z_{c} = \\sum_{i = 1}^{N}\\Bigg[\\log\\Bigg\\{{\\frac{F_{0}(y[i])^{-1} - 1}{\\big(N - \\frac{1}{2}\\big) \\big/ \\big(i - \\frac{3}{4}\\big) - 1}}\\Bigg\\}\\Bigg]^{2}$$\n",
        " where $F_{0}(y)$ is the known CDF (Cumulative Distrubution Function) of noise."
      ]
    },
    {
      "cell_type": "code",
      "metadata": {
        "id": "ilH_XSQ-CEfU"
      },
      "source": [
        "def create_dataset(signal, desired_snr, samples, sample_size):\n",
        "  \n",
        "  # Creating the signal with desired SNR\n",
        "  snr_signal = awgn(signal[0:samples * sample_size], desired_snr)\n",
        "  \n",
        "  # Allocating zeros to the dataset\n",
        "  X = np.zeros((samples, 2))\n",
        "  \n",
        "  # Range of values of i is (0, N)\n",
        "  j = np.arange(1, sample_size + 1)\n",
        "  \n",
        "  for i in range(0, samples):\n",
        "    \n",
        "    # Extracting the sample based on sample size\n",
        "    sampled_signal = snr_signal[i * sample_size : (i + 1) * sample_size]\n",
        "    \n",
        "    # Sorting the sampled signal\n",
        "    sampled_signal = np.sort(sampled_signal, axis=0)\n",
        "    \n",
        "    # Energy detection\n",
        "    E = np.sum(sampled_signal ** 2)\n",
        "    \n",
        "    # Computing the Test statistic (Zhang)\n",
        "    # CDF (Cumulative Distribution Function of Standard Distribution)\n",
        "    cdf = norm.cdf(sampled_signal)\n",
        "    cdf = np.sort(cdf, axis=0)\n",
        "    \n",
        "    # Computing the numerator\n",
        "    numerator = (1 / cdf) - 1\n",
        "    \n",
        "    # Computing the denominator\n",
        "    denominator = ( (sample_size - 0.5) / (j - 0.75) ) - 1\n",
        "    denominator = np.reshape(denominator, (denominator.shape[0], 1))\n",
        "    \n",
        "    log = np.log(numerator / denominator)\n",
        "    \n",
        "    # Final Zhang statistic computation\n",
        "    Zc = np.sum(log ** 2)\n",
        "    \n",
        "    # Assigning values to the dataset\n",
        "    X[i][0] = E\n",
        "    X[i][1] = Zc\n",
        "    \n",
        "  # Replacing infinite values with next largest value in the training set for \n",
        "  # Zhang statistic\n",
        "  X[np.isinf(X[:, 1])] = np.max(X[np.logical_not(np.isinf(X[:, 1])), 1])\n",
        "  \n",
        "  print(\"sum = \" + str(np.sum(np.isinf(X[:, 1]))))\n",
        "  \n",
        "  return X"
      ],
      "execution_count": 7,
      "outputs": []
    },
    {
      "cell_type": "code",
      "metadata": {
        "colab": {
          "base_uri": "https://localhost:8080/"
        },
        "id": "cDZk1DcBJ_LI",
        "outputId": "d3df3eec-6e88-42b2-ad6e-7c24b77655dd"
      },
      "source": [
        "a = time.time()\n",
        "print(create_dataset(FM[50000:], 4, 15000, 100).shape)\n",
        "b = time.time()\n",
        "\n",
        "# Printing the time taken for execution\n",
        "print(b - a)"
      ],
      "execution_count": 8,
      "outputs": [
        {
          "output_type": "stream",
          "text": [
            "SNR = 4.000000572180325\n",
            "sum = 0\n",
            "(15000, 2)\n",
            "1.8611783981323242\n"
          ],
          "name": "stdout"
        }
      ]
    },
    {
      "cell_type": "markdown",
      "metadata": {
        "id": "n0KSmaihiG-N"
      },
      "source": [
        "Making the dataset for all the SNRs in the range -20 till 4 with step size of 2. The following function will take a range of SNRs as input and will output the dataset. Other inputs are the sample size, the signal, and, the number of samples per SNR."
      ]
    },
    {
      "cell_type": "code",
      "metadata": {
        "id": "DgeNvokTUvqt"
      },
      "source": [
        "def final_dataset(signal, snr_range, samples_per_snr, sample_size):\n",
        "  X = {}\n",
        "  \n",
        "  for snr in snr_range:\n",
        "    # Creating dataset for the given SNR\n",
        "    X_snr = create_dataset(signal, snr, samples_per_snr, sample_size)\n",
        "    \n",
        "    # Indexing within the final dataset matrix X\n",
        "    X[snr] = X_snr\n",
        "  \n",
        "  return X"
      ],
      "execution_count": 9,
      "outputs": []
    },
    {
      "cell_type": "markdown",
      "metadata": {
        "id": "mqF-nzEnmVVb"
      },
      "source": [
        "# 7. Generating White noise sequence"
      ]
    },
    {
      "cell_type": "markdown",
      "metadata": {
        "id": "ALzRysIBmpqP"
      },
      "source": [
        "White noise of variance 1 is generated and is labelled as 0."
      ]
    },
    {
      "cell_type": "code",
      "metadata": {
        "id": "4hIilooqpOH3"
      },
      "source": [
        "def create_noise_sequence(samples, sample_size):\n",
        "  \n",
        "  # Creating white noise sequence of variance 1\n",
        "  noise = np.random.randn(samples * sample_size, 1)\n",
        "  \n",
        "  # Allocating zeros to the dataset\n",
        "  X = np.zeros((samples, 2))\n",
        "  \n",
        "  # Range of values of i is (0, N)\n",
        "  j = np.arange(1, sample_size + 1)\n",
        "  \n",
        "  for i in range(0, samples):\n",
        "    \n",
        "    # Extracting the sample based on sample size\n",
        "    sampled_signal = noise[i * sample_size : (i + 1) * sample_size]\n",
        "    \n",
        "    # Sorting the sampled signal\n",
        "    sampled_signal = np.sort(sampled_signal, axis=0)\n",
        "    \n",
        "    # Energy detection\n",
        "    E = np.sum(sampled_signal ** 2)\n",
        "    \n",
        "    # Computing the Test statistic (Zhang)\n",
        "    # CDF (Cumulative Distribution Function of Standard Distribution)\n",
        "    cdf = norm.cdf(sampled_signal, 0, 1)\n",
        "    cdf = np.sort(cdf, axis=0)\n",
        "    \n",
        "    # Computing the numerator\n",
        "    numerator = (1 / cdf) - 1\n",
        "    \n",
        "    # Computing the denominator\n",
        "    denominator = ( (sample_size - 0.5) / (j - 0.75) ) - 1\n",
        "    denominator = np.reshape(denominator, (denominator.shape[0], 1))\n",
        "    \n",
        "    log = np.log(numerator / denominator)\n",
        "    \n",
        "    # Final Zhang statistic computation\n",
        "    Zc = np.sum(log ** 2)\n",
        "    \n",
        "    # Assigning values to the dataset\n",
        "    X[i][0] = E\n",
        "    X[i][1] = Zc\n",
        "    \n",
        "  # Replacing infinite values with next largest value in the training set for \n",
        "  # Zhang statistic\n",
        "  X[np.isinf(X[:, 1])] = np.max(X[np.logical_not(np.isinf(X[:, 1])), 1])\n",
        "  \n",
        "  print(\"sum = \" + str(np.sum(np.isinf(X[:, 1]))))\n",
        "  \n",
        "  return X"
      ],
      "execution_count": 10,
      "outputs": []
    },
    {
      "cell_type": "code",
      "metadata": {
        "colab": {
          "base_uri": "https://localhost:8080/"
        },
        "id": "I9XXv_OHqKQ1",
        "outputId": "e779874b-0ae8-4ec9-cb60-a92ccb7589b2"
      },
      "source": [
        "a = time.time()\n",
        "X_noise = create_noise_sequence(100000, 100)\n",
        "b = time.time()\n",
        "\n",
        "print(\"Time taken = \" + str(b - a))\n",
        "\n",
        "print(X_noise.shape)"
      ],
      "execution_count": 11,
      "outputs": [
        {
          "output_type": "stream",
          "text": [
            "sum = 0\n",
            "Time taken = 12.101613521575928\n",
            "(100000, 2)\n"
          ],
          "name": "stdout"
        }
      ]
    },
    {
      "cell_type": "markdown",
      "metadata": {
        "id": "_odr-8KVRJ7B"
      },
      "source": [
        "# 9. DataSet with Lookback for LSTM"
      ]
    },
    {
      "cell_type": "markdown",
      "metadata": {
        "id": "h3m9Qo97RRWM"
      },
      "source": [
        "The output of an Recurrent Neural network depends on the previous training examples. Here, we will define a lookback to determine how many previous examples should the RNN look into to predict the output."
      ]
    },
    {
      "cell_type": "code",
      "metadata": {
        "id": "2qFiKXvXRqC3"
      },
      "source": [
        "# Function for Chaning the dataset for look back\n",
        "def create_look_back(X, look_back=1):\n",
        "  \n",
        "  # Look back dataset is initialized to be empty\n",
        "  look_back_X = []\n",
        "  \n",
        "  for i in range(len(X) - look_back + 1):\n",
        "    # Extracting an example from the dataset\n",
        "    a = X[i:(i + look_back), :]\n",
        "    \n",
        "    a = a.flatten() # (For flattening)\n",
        "    \n",
        "    # Appending to the dataset\n",
        "    look_back_X.append(a)\n",
        "  \n",
        "  look_back_Y = []\n",
        "    \n",
        "  # Returning in numpy's array format\n",
        "  return np.array(look_back_X)"
      ],
      "execution_count": 12,
      "outputs": []
    },
    {
      "cell_type": "markdown",
      "metadata": {
        "id": "vmynJhmI5-h8"
      },
      "source": [
        "The following function will insert look backs into our dataset for all the SNRs."
      ]
    },
    {
      "cell_type": "code",
      "metadata": {
        "id": "BbrTVKx1cqAz"
      },
      "source": [
        "def dataset_look_back(X_tech, snr_range, look_back):\n",
        "  X_tech_lb = {}\n",
        "  \n",
        "  for snr in snr_range:\n",
        "    X_tech_lb[snr] = create_look_back(X_tech[snr], look_back)\n",
        "  \n",
        "  return X_tech_lb"
      ],
      "execution_count": 13,
      "outputs": []
    },
    {
      "cell_type": "code",
      "metadata": {
        "colab": {
          "base_uri": "https://localhost:8080/",
          "height": 69
        },
        "id": "deysOHwY6JCZ",
        "outputId": "74587b7d-2a6b-4cce-a815-a1f1dd15596d"
      },
      "source": [
        "look_back = 2\n",
        "\n",
        "\"\"\"\n",
        "\n",
        "X_FM_lb = dataset_look_back(X_FM, range(-20, 6, 2), look_back)\n",
        "print(X_FM_lb[-20].shape)\n",
        "\n",
        "X_noise_lb = create_look_back(X_noise, look_back)\n",
        "print(X_noise_lb.shape)\n",
        "\n",
        "X_test_FM_lb  = dataset_look_back(X_FM_test, range(-20, 6, 2), look_back)\n",
        "\"\"\""
      ],
      "execution_count": 14,
      "outputs": [
        {
          "output_type": "execute_result",
          "data": {
            "application/vnd.google.colaboratory.intrinsic+json": {
              "type": "string"
            },
            "text/plain": [
              "'\\n\\nX_FM_lb = dataset_look_back(X_FM, range(-20, 6, 2), look_back)\\nprint(X_FM_lb[-20].shape)\\n\\nX_noise_lb = create_look_back(X_noise, look_back)\\nprint(X_noise_lb.shape)\\n\\nX_test_FM_lb  = dataset_look_back(X_FM_test, range(-20, 6, 2), look_back)\\n'"
            ]
          },
          "metadata": {
            "tags": []
          },
          "execution_count": 14
        }
      ]
    },
    {
      "cell_type": "markdown",
      "metadata": {
        "id": "K5G26cKoIDfb"
      },
      "source": [
        "# 10. Creating the ANN and LSTM models"
      ]
    },
    {
      "cell_type": "markdown",
      "metadata": {
        "id": "ZpnYswAcIL9F"
      },
      "source": [
        "Defining a sequential model with two stacked LSTM layers with a single Dense output layer."
      ]
    },
    {
      "cell_type": "code",
      "metadata": {
        "colab": {
          "base_uri": "https://localhost:8080/",
          "height": 1000
        },
        "id": "9McK8mCOepgl",
        "scrolled": false,
        "outputId": "cabe31d1-b30c-4791-e94c-7d6c81248be5"
      },
      "source": [
        "look_back=2\n",
        "# FM\n",
        "X_FM = {**final_dataset(FM[200000:], range(-20, -4, 2), 3400, 100), **final_dataset(FM[200000:], range(-4, 6, 2), 14000, 100)}\n",
        "X_FM_test = {**final_dataset(FM[300000:], range(-20, -4, 2), 3333, 100), **final_dataset(FM[300000:], range(-4, 6, 2), 8000, 100)}\n",
        "\n",
        "X_noise_lb = create_look_back(X_noise, 2)\n",
        "print(X_noise_lb.shape)\n",
        "\n",
        "X_FM_lb = dataset_look_back(X_FM, range(-20, 6, 2), 2)\n",
        "print(X_FM_lb[-20].shape)\n",
        "\n",
        "X_test_FM_lb = dataset_look_back(X_FM_test, range(-20, 6, 2), 2)\n",
        "print(X_FM_lb[-20].shape)\n",
        "\n",
        "X = X_FM_lb[-20]\n",
        "y = []\n",
        "\n",
        "for snr in range(-18, 6, 2):\n",
        "  X = np.concatenate((X, X_FM_lb[snr]), axis=0)\n",
        "\n",
        "y = np.ones((X.shape[0], 1))\n",
        "  \n",
        "X = np.concatenate((X, X_noise_lb), axis=0)\n",
        "\n",
        "y = np.concatenate((y, np.zeros((X_noise_lb.shape[0], 1))))\n",
        "\n",
        "print(X.shape)\n",
        "print(y.shape)\n",
        "\n",
        "seed = 9\n",
        "np.random.seed(seed)\n",
        "#Loading the data, here It's a feature data, which contains 4 features as mentioned in papers \n",
        "\n",
        "#ANN Model \n",
        "# create model\n",
        "model = Sequential() # This means it's sequential model, which is from one direction to another in sequence \n",
        "model.add(Dense(7, input_dim=4, kernel_initializer='uniform', activation='relu'))#First layer with 20 nodes and as we have 4 features so input_dim would be 4, relu suits well for binary classification so I have used it\n",
        "model.add(Dense(1, kernel_initializer='uniform', activation='sigmoid')) #Output layer\n",
        "\n",
        "# Compile model\n",
        "#This function you have to explore in case you want to do the mathematic analysis\n",
        "model.compile(loss='binary_crossentropy', optimizer='adam', metrics=['accuracy'])\n",
        "\n",
        "# Fit the model\n",
        "#Training and batch size\n",
        "model.fit(X, y, epochs=10, batch_size=150,  verbose=2)\n",
        "\n",
        "#Evaluate the model\n",
        "scores = model.evaluate(X, y)\n",
        "print(\"\\n%s: %.2f%%\" % (model.metrics_names[1], scores[1]*100))\n",
        "\n",
        "pd1_FM = {}\n",
        "\n",
        "for snr in range(-20, 6, 2):\n",
        "  y_snr = np.ones((X_test_FM_lb[snr].shape[0], 1))\n",
        "  scores = model.evaluate(X_test_FM_lb[snr], y_snr)\n",
        "  print(\"At SNR = \" + str(snr) + \"\\n%s: %.2f%%\" % (model.metrics_names[1], scores[1]*100))\n",
        "  pd1_FM[snr] = scores[1]\n",
        "  \n",
        "plt.plot(*zip(*sorted(pd1_FM.items())))\n",
        "plt.xlabel('SNR (dB)')\n",
        "plt.ylabel('Probability of detection')\n",
        "plt.xlim([-20, 4])\n",
        "plt.ylim([0, 1])\n",
        "\n",
        "plt.title('FM, N = 100')\n",
        "\n",
        "scores = model.evaluate(X_noise_lb, np.zeros((X_noise_lb.shape[0], 1)))\n",
        "print(\"pfa = \"  + str(1 - scores[1]))"
      ],
      "execution_count": 15,
      "outputs": [
        {
          "output_type": "stream",
          "text": [
            "SNR = -19.99999953768146\n",
            "sum = 0\n",
            "SNR = -17.999999556757647\n",
            "sum = 0\n",
            "SNR = -15.999999794706296\n",
            "sum = 0\n",
            "SNR = -13.999999749308806\n",
            "sum = 0\n",
            "SNR = -12.000000015137848\n",
            "sum = 0\n",
            "SNR = -9.99999966597813\n",
            "sum = 0\n",
            "SNR = -8.00000061702898\n",
            "sum = 0\n",
            "SNR = -5.999999931877012\n",
            "sum = 0\n",
            "SNR = -4.0000007089980425\n",
            "sum = 0\n",
            "SNR = -2.0000014249382807\n",
            "sum = 0\n",
            "SNR = -1.707343726528127e-06\n",
            "sum = 0\n",
            "SNR = 1.9999978214015555\n",
            "sum = 0\n",
            "SNR = 3.9999978183533713\n",
            "sum = 0\n",
            "SNR = -19.999998092009385\n",
            "sum = 0\n",
            "SNR = -17.99999895106452\n",
            "sum = 0\n",
            "SNR = -16.000000394927426\n",
            "sum = 0\n",
            "SNR = -13.9999990463152\n",
            "sum = 0\n",
            "SNR = -11.999999088992697\n",
            "sum = 0\n",
            "SNR = -9.999999012895708\n",
            "sum = 0\n",
            "SNR = -7.999999792819547\n",
            "sum = 0\n",
            "SNR = -5.999999969156635\n",
            "sum = 0\n",
            "SNR = -3.9999994436784543\n",
            "sum = 0\n",
            "SNR = -1.9999994543001078\n",
            "sum = 0\n",
            "SNR = 4.602301327378396e-07\n",
            "sum = 0\n",
            "SNR = 2.0000004573903647\n",
            "sum = 0\n",
            "SNR = 4.000000608294114\n",
            "sum = 0\n",
            "(99999, 4)\n",
            "(3399, 4)\n",
            "(3399, 4)\n",
            "(197186, 4)\n",
            "(197186, 1)\n",
            "Epoch 1/10\n",
            "1315/1315 - 4s - loss: 0.2933 - accuracy: 0.8773\n",
            "Epoch 2/10\n",
            "1315/1315 - 2s - loss: 0.2765 - accuracy: 0.8909\n",
            "Epoch 3/10\n",
            "1315/1315 - 2s - loss: 0.2741 - accuracy: 0.8924\n",
            "Epoch 4/10\n",
            "1315/1315 - 2s - loss: 0.2712 - accuracy: 0.8935\n",
            "Epoch 5/10\n",
            "1315/1315 - 2s - loss: 0.2687 - accuracy: 0.8947\n",
            "Epoch 6/10\n",
            "1315/1315 - 2s - loss: 0.2657 - accuracy: 0.8963\n",
            "Epoch 7/10\n",
            "1315/1315 - 2s - loss: 0.2633 - accuracy: 0.8972\n",
            "Epoch 8/10\n",
            "1315/1315 - 2s - loss: 0.2619 - accuracy: 0.8980\n",
            "Epoch 9/10\n",
            "1315/1315 - 2s - loss: 0.2608 - accuracy: 0.8983\n",
            "Epoch 10/10\n",
            "1315/1315 - 2s - loss: 0.2601 - accuracy: 0.8985\n",
            "6163/6163 [==============================] - 9s 1ms/step - loss: 0.2593 - accuracy: 0.8988\n",
            "\n",
            "accuracy: 89.88%\n",
            "105/105 [==============================] - 0s 1ms/step - loss: 1.9343 - accuracy: 0.0684\n",
            "At SNR = -20\n",
            "accuracy: 6.84%\n",
            "105/105 [==============================] - 0s 1ms/step - loss: 1.7379 - accuracy: 0.1194\n",
            "At SNR = -18\n",
            "accuracy: 11.94%\n",
            "105/105 [==============================] - 0s 1ms/step - loss: 1.5406 - accuracy: 0.1972\n",
            "At SNR = -16\n",
            "accuracy: 19.72%\n",
            "105/105 [==============================] - 0s 1ms/step - loss: 1.2536 - accuracy: 0.3268\n",
            "At SNR = -14\n",
            "accuracy: 32.68%\n",
            "105/105 [==============================] - 0s 1ms/step - loss: 0.9118 - accuracy: 0.5174\n",
            "At SNR = -12\n",
            "accuracy: 51.74%\n",
            "105/105 [==============================] - 0s 1ms/step - loss: 0.5534 - accuracy: 0.7302\n",
            "At SNR = -10\n",
            "accuracy: 73.02%\n",
            "105/105 [==============================] - 0s 1ms/step - loss: 0.3513 - accuracy: 0.8358\n",
            "At SNR = -8\n",
            "accuracy: 83.58%\n",
            "105/105 [==============================] - 0s 1ms/step - loss: 0.2457 - accuracy: 0.8776\n",
            "At SNR = -6\n",
            "accuracy: 87.76%\n",
            "250/250 [==============================] - 0s 1ms/step - loss: 0.1851 - accuracy: 0.9045\n",
            "At SNR = -4\n",
            "accuracy: 90.45%\n",
            "250/250 [==============================] - 0s 1ms/step - loss: 0.1270 - accuracy: 0.9344\n",
            "At SNR = -2\n",
            "accuracy: 93.44%\n",
            "250/250 [==============================] - 0s 1ms/step - loss: 0.0692 - accuracy: 0.9622\n",
            "At SNR = 0\n",
            "accuracy: 96.22%\n",
            "250/250 [==============================] - 0s 1ms/step - loss: 0.0358 - accuracy: 0.9810\n",
            "At SNR = 2\n",
            "accuracy: 98.10%\n",
            "250/250 [==============================] - 0s 1ms/step - loss: 0.0120 - accuracy: 0.9935\n",
            "At SNR = 4\n",
            "accuracy: 99.35%\n",
            "3125/3125 [==============================] - 4s 1ms/step - loss: 0.1634 - accuracy: 0.9782\n",
            "pfa = 0.021830201148986816\n"
          ],
          "name": "stdout"
        },
        {
          "output_type": "display_data",
          "data": {
            "image/png": "[encoded data removed]",
            "text/plain": [
              "<Figure size 432x288 with 1 Axes>"
            ]
          },
          "metadata": {
            "tags": [],
            "needs_background": "light"
          }
        }
      ]
    },
    {
      "cell_type": "code",
      "metadata": {
        "colab": {
          "base_uri": "https://localhost:8080/"
        },
        "id": "RZVN-bYwE0KA",
        "outputId": "a128a198-c0c1-4623-adb6-3fb6f4116e21"
      },
      "source": [
        "a = time.time()\n",
        "\n",
        "for i in range(0, 1000):\n",
        "    model.predict(X[0].reshape(1, 4))\n",
        "\n",
        "b = time.time()\n",
        "\n",
        "print((b-a)/1000)"
      ],
      "execution_count": 16,
      "outputs": [
        {
          "output_type": "stream",
          "text": [
            "0.028857457399368285\n"
          ],
          "name": "stdout"
        }
      ]
    },
    {
      "cell_type": "markdown",
      "metadata": {
        "id": "LDBS-DyME0KA"
      },
      "source": [
        "# 9. DataSet with Lookback for LSTM"
      ]
    },
    {
      "cell_type": "code",
      "metadata": {
        "id": "P76naas6E0KA"
      },
      "source": [
        "del(create_dataset)\n",
        "\n",
        "def create_dataset(signal, desired_snr, samples, sample_size):\n",
        "\n",
        "    # Creating the signal with desired SNR\n",
        "    snr_signal = awgn(signal[0:(samples + 1) * sample_size], desired_snr)\n",
        "\n",
        "    # Allocating zeros to the dataset\n",
        "    X = np.zeros((samples, sample_size * 2))\n",
        "\n",
        "    \n",
        "    l = 0\n",
        "    u = sample_size * 2\n",
        "        \n",
        "    for i in range(0, samples):\n",
        "        \n",
        "        # Extracting the sample based on sample size\n",
        "        sampled_signal = snr_signal[l : u]\n",
        "        \n",
        "        X[i][0:sample_size * 2] = sampled_signal.T\n",
        "        \n",
        "        l = l + sample_size\n",
        "        u = u + sample_size\n",
        "    \n",
        "    return X"
      ],
      "execution_count": 17,
      "outputs": []
    },
    {
      "cell_type": "code",
      "metadata": {
        "colab": {
          "base_uri": "https://localhost:8080/"
        },
        "id": "U2CtgZYmE0KA",
        "outputId": "76ad1954-6a88-40b3-ede5-e4c177ddafe0"
      },
      "source": [
        "a = time.time()\n",
        "print(create_dataset(FM[50000:], 4, 15000, 100).shape)\n",
        "b = time.time()\n",
        "\n",
        "# Printing the time taken for execution\n",
        "print(b - a)"
      ],
      "execution_count": 18,
      "outputs": [
        {
          "output_type": "stream",
          "text": [
            "SNR = 3.999999892825757\n",
            "(15000, 200)\n",
            "0.1046140193939209\n"
          ],
          "name": "stdout"
        }
      ]
    },
    {
      "cell_type": "markdown",
      "metadata": {
        "id": "sUUaoQQsE0KA"
      },
      "source": [
        "Making the dataset for all the SNRs in the range -20 till 4 with step size of 2. The following function will take a range of SNRs as input and will output the dataset. Other inputs are the sample size, the signal, and, the number of samples per SNR."
      ]
    },
    {
      "cell_type": "code",
      "metadata": {
        "id": "DXf2Oc9QE0KB"
      },
      "source": [
        "del(final_dataset)\n",
        "\n",
        "def final_dataset(signal, snr_range, samples_per_snr, sample_size):\n",
        "  X = {}\n",
        "  \n",
        "  for snr in snr_range:\n",
        "    # Creating dataset for the given SNR\n",
        "    X_snr = create_dataset(signal, snr, samples_per_snr, sample_size)\n",
        "    \n",
        "    # Indexing within the final dataset matrix X\n",
        "    X[snr] = X_snr\n",
        "  \n",
        "  return X"
      ],
      "execution_count": 19,
      "outputs": []
    },
    {
      "cell_type": "code",
      "metadata": {
        "colab": {
          "base_uri": "https://localhost:8080/"
        },
        "id": "lgy1BUZ7E0KB",
        "outputId": "b8075d1a-def4-4ad4-ccc0-455f6da90932"
      },
      "source": [
        "a = time.time()\n",
        "\n",
        "# FM-1800 band\n",
        "X_FM = {**final_dataset(FM[200000:], range(-20, -4, 2), 5000, 100), **final_dataset(FM[200000:], range(-4, 6, 2), 12000, 100)}\n",
        "X_test_FM = {**final_dataset(FM[300000:], range(-20, -4, 2), 3333, 100), **final_dataset(FM[300000:], range(-4, 6, 2), 8000, 100)}\n",
        "b = time.time()\n",
        "\n",
        "# Printing the time taken for execution\n",
        "print(\"Time taken :- \" + str(b - a))"
      ],
      "execution_count": 20,
      "outputs": [
        {
          "output_type": "stream",
          "text": [
            "SNR = -19.999999776405886\n",
            "SNR = -18.00000062328047\n",
            "SNR = -16.000001469304905\n",
            "SNR = -14.000000821593376\n",
            "SNR = -12.000000988834492\n",
            "SNR = -10.000001189208563\n",
            "SNR = -8.000000112406957\n",
            "SNR = -6.00000069382582\n",
            "SNR = -4.000001429121688\n",
            "SNR = -2.000001079286569\n",
            "SNR = -6.180684042209495e-07\n",
            "SNR = 1.9999996506478712\n",
            "SNR = 3.999998753817444\n",
            "SNR = -19.999998469833645\n",
            "SNR = -17.99999885487874\n",
            "SNR = -15.999998847257256\n",
            "SNR = -13.999999681341142\n",
            "SNR = -11.999999675500721\n",
            "SNR = -9.999999500066282\n",
            "SNR = -7.999999907460753\n",
            "SNR = -5.9999980386008716\n",
            "SNR = -3.9999979904551997\n",
            "SNR = -1.9999999846925127\n",
            "SNR = 1.4704095343987988e-06\n",
            "SNR = 2.0000007308975887\n",
            "SNR = 4.000001299982941\n",
            "Time taken :- 1.0823695659637451\n"
          ],
          "name": "stdout"
        }
      ]
    },
    {
      "cell_type": "markdown",
      "metadata": {
        "id": "w2JoKvRTE0KB"
      },
      "source": [
        "# 7. Generating White noise sequence"
      ]
    },
    {
      "cell_type": "markdown",
      "metadata": {
        "id": "wj-uuMNgE0KC"
      },
      "source": [
        "White noise of variance 1 is generated and is labelled as 0."
      ]
    },
    {
      "cell_type": "code",
      "metadata": {
        "id": "uTrU2SXIE0KC"
      },
      "source": [
        "del(create_noise_sequence)\n",
        "\n",
        "def create_noise_sequence(samples, sample_size):\n",
        "\n",
        "    # Creating white noise sequence of variance 1\n",
        "    noise = np.random.randn(samples * (sample_size + 1), 1)\n",
        "\n",
        "    # Allocating zeros to the dataset\n",
        "    X = np.zeros((samples, sample_size * 2))\n",
        "\n",
        "    l = 0\n",
        "    u = sample_size * 2\n",
        "    \n",
        "    for i in range(0, samples):\n",
        "\n",
        "        # Extracting the sample based on sample size\n",
        "        sampled_signal = noise[l : u]\n",
        "\n",
        "        X[i][0:sample_size * 2] = sampled_signal.T\n",
        "\n",
        "        l = l + sample_size\n",
        "        u = u + sample_size\n",
        "\n",
        "    return X\n",
        "\n",
        "# Allocating zeros to the dataset\n",
        "#  X = np.zeros((samples, sample_size))\n",
        "#  \n",
        "#  for i in range(0, samples):\n",
        "#    \n",
        "#    # Extracting the sample based on sample size\n",
        "#    sampled_signal = noise[i * sample_size : (i + 1) * sample_size]\n",
        "#    \n",
        "#    X[i][0:sample_size] = sampled_signal.T\n",
        "#  \n",
        "#  return X"
      ],
      "execution_count": 21,
      "outputs": []
    },
    {
      "cell_type": "code",
      "metadata": {
        "colab": {
          "base_uri": "https://localhost:8080/"
        },
        "id": "dtJl-Y3PE0KC",
        "outputId": "aba208cc-bbf5-4ac7-a4e2-91bac2ca5896"
      },
      "source": [
        "a = time.time()\n",
        "X_noise = create_noise_sequence(200000, 100)\n",
        "X_noise_test = create_noise_sequence(66664, 100)\n",
        "b = time.time()\n",
        "\n",
        "print(\"Time taken = \" + str(b - a))\n",
        "\n",
        "print(X_noise.shape)"
      ],
      "execution_count": 22,
      "outputs": [
        {
          "output_type": "stream",
          "text": [
            "Time taken = 1.5413897037506104\n",
            "(200000, 200)\n"
          ],
          "name": "stdout"
        }
      ]
    },
    {
      "cell_type": "markdown",
      "metadata": {
        "id": "-CUtueoAE0KD"
      },
      "source": [
        "The output of an Recurrent Neural network depends on the previous training examples. Here, we will define a lookback to determine how many previous examples should the RNN look into to predict the output."
      ]
    },
    {
      "cell_type": "code",
      "metadata": {
        "id": "5-VXSGuIE0KD"
      },
      "source": [
        "del(create_look_back)\n",
        "\n",
        "# Function for Changing the dataset for look back\n",
        "def create_look_back(X, look_back=1):\n",
        "  \n",
        "  # Look back dataset is initialized to be empty\n",
        "  look_back_X = []\n",
        "  \n",
        "  for i in range(len(X) - look_back + 1):\n",
        "    # Extracting an example from the dataset\n",
        "    a = X[i:(i + look_back), :]\n",
        "    \n",
        "    # a = a.flatten() # (For flattening)\n",
        "    \n",
        "    # Appending to the dataset\n",
        "    look_back_X.append(a)\n",
        "  \n",
        "  look_back_Y = []\n",
        "    \n",
        "  # Returning in numpy's array format\n",
        "  return np.array(look_back_X)"
      ],
      "execution_count": 23,
      "outputs": []
    },
    {
      "cell_type": "markdown",
      "metadata": {
        "id": "WXF5SByKE0KD"
      },
      "source": [
        "The following function will insert look backs into our dataset for all the SNRs."
      ]
    },
    {
      "cell_type": "code",
      "metadata": {
        "id": "rEKBKQxME0KD"
      },
      "source": [
        "del(dataset_look_back)\n",
        "\n",
        "def dataset_look_back(X_tech, snr_range, look_back):\n",
        "  X_tech_lb = {}\n",
        "  \n",
        "  for snr in snr_range:\n",
        "    X_tech_lb[snr] = create_look_back(X_tech[snr], look_back)\n",
        "  \n",
        "  return X_tech_lb"
      ],
      "execution_count": 24,
      "outputs": []
    },
    {
      "cell_type": "code",
      "metadata": {
        "colab": {
          "base_uri": "https://localhost:8080/"
        },
        "id": "ESfO822GE0KD",
        "outputId": "060349f2-5c8d-4ca3-e706-0a7fb96b7dd4"
      },
      "source": [
        "look_back = 1\n",
        "\n",
        "\n",
        "X_FM_lb = dataset_look_back(X_FM, range(-20, 6, 2), look_back)\n",
        "print(X_FM_lb[-20].shape)\n",
        "\n",
        "X_test_FM_lb = dataset_look_back(X_test_FM, range(-20, 6, 2), look_back)\n",
        "print(X_test_FM_lb[-20].shape)\n",
        "\n",
        "X_noise_lb = create_look_back(X_noise, look_back)\n",
        "print(X_noise_lb.shape)\n",
        "\n",
        "X_noise_test_lb = create_look_back(X_noise_test, look_back)\n",
        "print(X_noise_test_lb.shape)"
      ],
      "execution_count": 25,
      "outputs": [
        {
          "output_type": "stream",
          "text": [
            "(5000, 1, 200)\n",
            "(3333, 1, 200)\n",
            "(200000, 1, 200)\n",
            "(66664, 1, 200)\n"
          ],
          "name": "stdout"
        }
      ]
    },
    {
      "cell_type": "code",
      "metadata": {
        "colab": {
          "base_uri": "https://localhost:8080/",
          "height": 1000
        },
        "id": "GOVZtargIGqd",
        "outputId": "6980a40f-4586-4fd6-8242-a8d2f867a15d"
      },
      "source": [
        "k = 30\n",
        "\n",
        "dict1 = final_dataset(FM[200000:], range(-20, -4, 2), 125 * k, 100)\n",
        "dict2 = final_dataset(FM[200000:], range(-4, 6, 2), 200 * (100 - k), 100)\n",
        "\n",
        "X_FM = {**dict1, **dict2}\n",
        "\n",
        "X_FM_lb = dataset_look_back(X_FM, range(-20, 6, 2), 1)\n",
        "print(X_FM_lb[-20].shape)\n",
        "\n",
        "X = X_FM_lb[-20]\n",
        "y = []\n",
        "X_test = X_test_FM_lb[-20]\n",
        "\n",
        "for snr in range(-18, 6, 2):\n",
        "  X = np.concatenate((X, X_FM_lb[snr]), axis=0)\n",
        "  X_test = np.concatenate((X_test, X_test_FM_lb[snr]), axis=0)\n",
        "  \n",
        "y = np.ones((X.shape[0], 1))\n",
        "y_test = np.ones((X_test.shape[0], 1))\n",
        "  \n",
        "X = np.concatenate((X, X_noise_lb), axis=0)\n",
        "X = X_FM_lb[-20]\n",
        "y = []\n",
        "X_test = X_test_FM_lb[-20]\n",
        "\n",
        "for snr in range(-18, 6, 2):\n",
        "  X = np.concatenate((X, X_FM_lb[snr]), axis=0)\n",
        "  X_test = np.concatenate((X_test, X_test_FM_lb[snr]), axis=0)\n",
        "  \n",
        "y = np.ones((X.shape[0], 1))\n",
        "y_test = np.ones((X_test.shape[0], 1))\n",
        "  \n",
        "X = np.concatenate((X, X_noise_lb), axis=0)\n",
        "\n",
        "y = np.concatenate((y, np.zeros((X_noise_lb.shape[0], 1))))\n",
        "\n",
        "print(X.shape)\n",
        "print(y.shape)\n",
        "\n",
        "model = Sequential()\n",
        "model.add(LSTM(16, input_shape=(1, 200)))\n",
        "model.add(Dense(1, activation='sigmoid'))\n",
        "\n",
        "model.compile(loss='binary_crossentropy',\n",
        "              optimizer='adam',\n",
        "              metrics=['accuracy'])\n",
        "\n",
        "model.fit(X, y,\n",
        "          batch_size=32, epochs=15)\n",
        "\n",
        "scores = model.evaluate(X_test, y_test, verbose=1)\n",
        "print(\"Accuracy: %.2f%%\" % (scores[1]*100))\n",
        "\n",
        "pd2_FM = {}\n",
        "\n",
        "for snr in range(-20, 5, 2):\n",
        "  X_snr = X_test_FM_lb[snr]\n",
        "  y = np.ones((X_test_FM_lb[snr].shape[0], 1))\n",
        "  y_snr = np.ones((X_test_FM_lb[snr].shape[0], 1))\n",
        "  scores = model.evaluate(X_snr, y_snr)\n",
        "  print(\"At SNR = \" + str(snr) + \"\\n%s: %.2f%%\" % (model.metrics_names[1], scores[1]*100))\n",
        "  pd2_FM[snr] = scores[1]\n",
        "  \n",
        "plt.plot(*zip(*sorted(pd2_FM.items())), label='Proposed LSTM aided Spectrum Sensing Scheme')\n",
        "plt.plot(*zip(*sorted(pd1_FM.items())), label='ANN based Hybrid Sensing Scheme')\n",
        "plt.legend()\n",
        "plt.xlabel('SNR (dB)')\n",
        "plt.ylabel('Probability of detection')\n",
        "plt.xlim([-20, 5])\n",
        "plt.ylim([0, 1])\n",
        "\n",
        "plt.title('FM-1800 DL N = 100')\n",
        "\n",
        "y_noise = np.zeros((X_noise_test_lb.shape[0], 1))\n",
        "scores = model.evaluate(X_noise_test_lb, y_noise)\n",
        "print(\"Noise performance = \" + \"\\n%s: %.2f%%\" % (model.metrics_names[1], scores[1]*100))\n",
        "print(\"pfa = \" + str(1 - scores[1]))\n",
        "\n",
        "plt.savefig('FM N=100.jpg', format='jpg', dpi=1000)"
      ],
      "execution_count": 26,
      "outputs": [
        {
          "output_type": "stream",
          "text": [
            "SNR = -20.000000318836115\n",
            "SNR = -18.000000461898708\n",
            "SNR = -15.999999669926925\n",
            "SNR = -14.00000034725377\n",
            "SNR = -12.00000015318424\n",
            "SNR = -10.000000401410729\n",
            "SNR = -8.000000172296733\n",
            "SNR = -6.000000686120814\n",
            "SNR = -4.000000416263775\n",
            "SNR = -2.0000024943761603\n",
            "SNR = -2.1749549795982505e-07\n",
            "SNR = 1.9999983568248236\n",
            "SNR = 3.9999988134620357\n",
            "(3750, 1, 200)\n",
            "(300000, 1, 200)\n",
            "(300000, 1)\n",
            "Epoch 1/15\n",
            "9375/9375 [==============================] - 27s 2ms/step - loss: 0.2333 - accuracy: 0.9156\n",
            "Epoch 2/15\n",
            "9375/9375 [==============================] - 21s 2ms/step - loss: 0.1812 - accuracy: 0.9356\n",
            "Epoch 3/15\n",
            "9375/9375 [==============================] - 21s 2ms/step - loss: 0.1744 - accuracy: 0.9375\n",
            "Epoch 4/15\n",
            "9375/9375 [==============================] - 21s 2ms/step - loss: 0.1692 - accuracy: 0.9387\n",
            "Epoch 5/15\n",
            "9375/9375 [==============================] - 22s 2ms/step - loss: 0.1666 - accuracy: 0.9396\n",
            "Epoch 6/15\n",
            "9375/9375 [==============================] - 22s 2ms/step - loss: 0.1613 - accuracy: 0.9414\n",
            "Epoch 7/15\n",
            "9375/9375 [==============================] - 21s 2ms/step - loss: 0.1602 - accuracy: 0.9414\n",
            "Epoch 8/15\n",
            "9375/9375 [==============================] - 21s 2ms/step - loss: 0.1576 - accuracy: 0.9427\n",
            "Epoch 9/15\n",
            "9375/9375 [==============================] - 22s 2ms/step - loss: 0.1581 - accuracy: 0.9424\n",
            "Epoch 10/15\n",
            "9375/9375 [==============================] - 21s 2ms/step - loss: 0.1546 - accuracy: 0.9435\n",
            "Epoch 11/15\n",
            "9375/9375 [==============================] - 21s 2ms/step - loss: 0.1546 - accuracy: 0.9435\n",
            "Epoch 12/15\n",
            "9375/9375 [==============================] - 21s 2ms/step - loss: 0.1518 - accuracy: 0.9444\n",
            "Epoch 13/15\n",
            "9375/9375 [==============================] - 21s 2ms/step - loss: 0.1519 - accuracy: 0.9445\n",
            "Epoch 14/15\n",
            "9375/9375 [==============================] - 21s 2ms/step - loss: 0.1494 - accuracy: 0.9452\n",
            "Epoch 15/15\n",
            "9375/9375 [==============================] - 21s 2ms/step - loss: 0.1491 - accuracy: 0.9455\n",
            "2084/2084 [==============================] - 4s 2ms/step - loss: 0.5056 - accuracy: 0.8159\n",
            "Accuracy: 81.59%\n",
            "105/105 [==============================] - 0s 2ms/step - loss: 2.2225 - accuracy: 0.2325\n",
            "At SNR = -20\n",
            "accuracy: 23.25%\n",
            "105/105 [==============================] - 0s 2ms/step - loss: 1.9245 - accuracy: 0.3081\n",
            "At SNR = -18\n",
            "accuracy: 30.81%\n",
            "105/105 [==============================] - 0s 2ms/step - loss: 1.5345 - accuracy: 0.4242\n",
            "At SNR = -16\n",
            "accuracy: 42.42%\n",
            "105/105 [==============================] - 0s 2ms/step - loss: 1.0568 - accuracy: 0.6049\n",
            "At SNR = -14\n",
            "accuracy: 60.49%\n",
            "105/105 [==============================] - 0s 2ms/step - loss: 0.6909 - accuracy: 0.7474\n",
            "At SNR = -12\n",
            "accuracy: 74.74%\n",
            "105/105 [==============================] - 0s 2ms/step - loss: 0.4649 - accuracy: 0.8380\n",
            "At SNR = -10\n",
            "accuracy: 83.80%\n",
            "105/105 [==============================] - 0s 2ms/step - loss: 0.3768 - accuracy: 0.8722\n",
            "At SNR = -8\n",
            "accuracy: 87.22%\n",
            "105/105 [==============================] - 0s 2ms/step - loss: 0.2874 - accuracy: 0.8947\n",
            "At SNR = -6\n",
            "accuracy: 89.47%\n",
            "250/250 [==============================] - 1s 2ms/step - loss: 0.2275 - accuracy: 0.9153\n",
            "At SNR = -4\n",
            "accuracy: 91.53%\n",
            "250/250 [==============================] - 0s 2ms/step - loss: 0.1748 - accuracy: 0.9339\n",
            "At SNR = -2\n",
            "accuracy: 93.39%\n",
            "250/250 [==============================] - 0s 2ms/step - loss: 0.1169 - accuracy: 0.9531\n",
            "At SNR = 0\n",
            "accuracy: 95.31%\n",
            "250/250 [==============================] - 0s 2ms/step - loss: 0.0813 - accuracy: 0.9649\n",
            "At SNR = 2\n",
            "accuracy: 96.49%\n",
            "250/250 [==============================] - 0s 2ms/step - loss: 0.0468 - accuracy: 0.9814\n",
            "At SNR = 4\n",
            "accuracy: 98.14%\n",
            "2084/2084 [==============================] - 4s 2ms/step - loss: 0.1073 - accuracy: 0.9675\n",
            "Noise performance = \n",
            "accuracy: 96.75%\n",
            "pfa = 0.03246128559112549\n"
          ],
          "name": "stdout"
        },
        {
          "output_type": "display_data",
          "data": {
            "image/png": "[encoded data removed]",
            "text/plain": [
              "<Figure size 432x288 with 1 Axes>"
            ]
          },
          "metadata": {
            "tags": [],
            "needs_background": "light"
          }
        }
      ]
    },
    {
      "cell_type": "code",
      "metadata": {
        "id": "ynxPI-MCE0KF"
      },
      "source": [
        "#print(\"Accuracy: \", np.sum(prediction > 0.5, axis=0))"
      ],
      "execution_count": 27,
      "outputs": []
    }
  ]
}